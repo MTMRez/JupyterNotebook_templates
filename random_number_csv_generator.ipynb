{
 "cells": [
  {
   "cell_type": "markdown",
   "id": "28968ea5-7833-47b4-b730-0bf71cf2dc7e",
   "metadata": {},
   "source": [
    "Before we begin, let's check if this bunch of bits still work."
   ]
  },
  {
   "cell_type": "code",
   "execution_count": null,
   "id": "0ecaaf8b-838d-40fc-bd68-a1770a1a1377",
   "metadata": {},
   "outputs": [],
   "source": [
    "'Hello, world!' #I shouldn't get used to forget to put something to print in the output outside of the \"print()\" function."
   ]
  },
  {
   "cell_type": "markdown",
   "id": "1770b538-ddb2-4c23-9271-fe388fbd48cf",
   "metadata": {},
   "source": [
    "Do you know what I'm in the mood today? Generating random numbers. In fact, it's the only thing I'm actually in the mood whenever I see a Python script. Or a program in any programming language."
   ]
  },
  {
   "cell_type": "code",
   "execution_count": null,
   "id": "8e1d23f7-d437-40f3-a9b4-fccb2139e2e2",
   "metadata": {},
   "outputs": [],
   "source": [
    "import random"
   ]
  },
  {
   "cell_type": "markdown",
   "id": "595d9c13-4ec2-4258-b876-f9f44f797937",
   "metadata": {},
   "source": [
    "Python has a built-in module called \"random\" which allows the programmer to make random numbers. It has a set of methods. (Source: W3Schools)\n",
    "\n",
    "But I think just the \"random()\" method will do for what I want to do."
   ]
  },
  {
   "cell_type": "code",
   "execution_count": null,
   "id": "202663d6-e777-4373-b0b2-20f1e5b72e29",
   "metadata": {},
   "outputs": [],
   "source": [
    "values = []\n",
    "for i in range(10):\n",
    "  values.append(random.random())\n",
    "for i in values:\n",
    "  print(f\"{i:.4f}\")"
   ]
  },
  {
   "cell_type": "markdown",
   "id": "33bca9f3-8377-4698-a6d3-9bf1516f1c1a",
   "metadata": {},
   "source": [
    "I need something more precise than this: I need to generate specific amounts of random values at specific ranges"
   ]
  },
  {
   "cell_type": "code",
   "execution_count": null,
   "id": "ce539571-440a-49ac-8aef-5d248df09542",
   "metadata": {},
   "outputs": [],
   "source": [
    "values = []\n",
    "for i in range(0,30):\n",
    "  values.append(random.uniform(0.7, 1))\n",
    "for i in range(30,60):\n",
    "  values.append(random.uniform(0.4, 0.7))\n",
    "for i in range(60,100):\n",
    "  values.append(random.uniform(0, 0.4))\n",
    "for i in values:\n",
    "  print(f\"{i:.4f}\")"
   ]
  },
  {
   "cell_type": "markdown",
   "id": "65413ea7-e904-4d4e-8626-6f7db3f67205",
   "metadata": {},
   "source": [
    "Maybe I'll need something more refined. Here's what I want to do: I want to create a comma-separated-values file with random numbers which can be used to train machine learning algorithms. Silly idea, I know, but think:"
   ]
  },
  {
   "cell_type": "code",
   "execution_count": null,
   "id": "6fcf979e-ea9e-423f-8576-cbf4528a3aed",
   "metadata": {},
   "outputs": [],
   "source": [
    "import pandas as pd\n",
    "data = {\n",
    "    'Index': list(range(len(values))),\n",
    "    'Value': values\n",
    "}\n",
    "#print(data)\n",
    "df = pd.DataFrame(data)\n",
    "csv_file_path = 'data.csv'\n",
    "df.to_csv(csv_file_path, index=False)"
   ]
  },
  {
   "cell_type": "markdown",
   "id": "a0fbeb33-36ec-4642-83a0-915ab5c0fbde",
   "metadata": {},
   "source": [
    "If a machine learning model is not performing well, be it for overfitting or weak accuracy, the data needs adjustments. Now let's try to generate other intervals of random numbers to see what happens."
   ]
  }
 ],
 "metadata": {
  "kernelspec": {
   "display_name": "Python 3 (ipykernel)",
   "language": "python",
   "name": "python3"
  },
  "language_info": {
   "codemirror_mode": {
    "name": "ipython",
    "version": 3
   },
   "file_extension": ".py",
   "mimetype": "text/x-python",
   "name": "python",
   "nbconvert_exporter": "python",
   "pygments_lexer": "ipython3",
   "version": "3.12.5"
  }
 },
 "nbformat": 4,
 "nbformat_minor": 5
}
